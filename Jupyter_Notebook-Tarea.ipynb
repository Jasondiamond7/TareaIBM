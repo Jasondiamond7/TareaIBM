{
 "cells": [
  {
   "cell_type": "markdown",
   "metadata": {},
   "source": [
    "<center>\n",
    "    <img src=\"https://cf-courses-data.s3.us.cloud-object-storage.appdomain.cloud/IBMDeveloperSkillsNetwork-DS0105EN-SkillsNetwork/labs/Module2/images/SN_web_lightmode.png\" width=\"300\" alt=\"cognitiveclass.ai logo\">\n",
    "</center>\n"
   ]
  },
  {
   "cell_type": "markdown",
   "metadata": {},
   "source": [
    "#### Add your code below following the instructions given in the course\n"
   ]
  },
  {
   "cell_type": "markdown",
   "metadata": {
    "tags": []
   },
   "source": [
    "# Tarea Jupyter Notebook"
   ]
  },
  {
   "cell_type": "markdown",
   "metadata": {
    "tags": []
   },
   "source": [
    "## Introduccion"
   ]
  },
  {
   "cell_type": "markdown",
   "metadata": {},
   "source": [
    "## Lenguajes de la Ciencia de Datos\n",
    "- Python\n",
    "- R\n",
    "- Julia\n",
    "- MATLAB\n",
    "- SQL"
   ]
  },
  {
   "cell_type": "markdown",
   "metadata": {},
   "source": [
    "## Bibliotecas de Python\n",
    "- NumPy\n",
    "- pandas\n",
    "- scikit-learn\n",
    "- Matplotlib y Seaborn\n",
    "- Scipy\n",
    "\n",
    "## Bibliotecas de R\n",
    "- caret\n",
    "- dplyr\n",
    "- ggplot2\n",
    "- readr y writexl\n",
    "\n",
    "## Otras bibliotecas\n",
    "- TensorFlow\n",
    "- Keras\n",
    "- OpenCV\n"
   ]
  },
  {
   "cell_type": "markdown",
   "metadata": {},
   "source": [
    "**Cree una celda markdown con una tabla de herramientas de Ciencia de Datos.**\n",
    "\n",
    "| Categoría                       | Herramienta     | Descripción                                               |\n",
    "|---------------------------------|-----------------|-----------------------------------------------------------|\n",
    "| **Análisis de Datos**           | pandas          | Manipulación y análisis de datos estructurados           |\n",
    "|                                 | NumPy           | Operaciones numéricas y álgebra lineal                   |\n",
    "|                                 | SciPy           | Funciones matemáticas y algoritmos numéricos              |\n",
    "| **Visualización de Datos**      | Matplotlib      | Creación de gráficos y visualizaciones                   |\n",
    "|                                 | Seaborn         | Visualización de datos estadísticos                      |\n",
    "|                                 | Plotly          | Creación de gráficos interactivos                         |\n",
    "| **Aprendizaje Automático**      | scikit-learn    | Algoritmos de aprendizaje automático                     |\n",
    "|                                 | TensorFlow      | Framework de aprendizaje automático de código abierto    |\n",
    "|                                 | Keras           | Framework de aprendizaje automático de alto nivel        |\n",
    "| **Minería de Datos**            | scikit-learn    | Algoritmos de minería de datos                           |\n",
    "|                                 | OpenCV          | Visión computacional y procesamiento de imágenes          |\n",
    "| **Bases de Datos**              | SQL             | Lenguaje de consulta estructurado para bases de datos relacionales |\n",
    "|                                 | NoSQL           | Bases de datos no relacionales para grandes conjuntos de datos |\n",
    "| **Desarrollo de Modelos**       | Jupyter Notebook| Entorno de desarrollo interactivo para modelos de ciencia de datos |\n",
    "|                                 | R Studio        | Entorno de desarrollo integrado para R                    |\n",
    "| **Colaboración**                | GitHub          | Plataforma de colaboración y versión de código            |\n",
    "|                                 "
   ]
  },
  {
   "cell_type": "markdown",
   "metadata": {},
   "source": [
    "**Cree una celda markdown introduciendo ejemplos de expresiones aritméticas.**\n",
    "\n",
    "## Python\n",
    "#### Suma\n",
    "suma = 5 + 3    # Resultado: 8\n",
    "\n",
    "#### Resta\n",
    "resta = 10 - 2  # Resultado: 8\n",
    "\n",
    "#### Multiplicación\n",
    "multiplicacion = 4 * 7  # Resultado: 28\n",
    "\n",
    "#### División\n",
    "division = 20 / 4  # Resultado: 5.0"
   ]
  },
  {
   "cell_type": "code",
   "execution_count": 3,
   "metadata": {
    "tags": []
   },
   "outputs": [
    {
     "name": "stdout",
     "output_type": "stream",
     "text": [
      "Multiplicación: 35\n",
      "Suma: 12\n"
     ]
    }
   ],
   "source": [
    "#Cree una celda de códigopara multiplicar y sumar números#\n",
    "\n",
    "# Definimos los números\n",
    "numero1 = 7\n",
    "numero2 = 5\n",
    "\n",
    "# Multiplicación\n",
    "resultado_multiplicacion = numero1 * numero2\n",
    "print(\"Multiplicación:\", resultado_multiplicacion)\n",
    "\n",
    "# Suma\n",
    "resultado_suma = numero1 + numero2\n",
    "print(\"Suma:\", resultado_suma)"
   ]
  },
  {
   "cell_type": "code",
   "execution_count": 5,
   "metadata": {
    "tags": []
   },
   "outputs": [
    {
     "name": "stdout",
     "output_type": "stream",
     "text": [
      "120 minutos son equivalentes a 2.00 horas.\n"
     ]
    }
   ],
   "source": [
    "# Definimos los minutos\n",
    "minutos = 120\n",
    "\n",
    "# Convertimos minutos a horas\n",
    "horas = minutos / 60\n",
    "\n",
    "print(f\"{minutos} minutos son equivalentes a {horas:.2f} horas.\")"
   ]
  },
  {
   "cell_type": "code",
   "execution_count": 6,
   "metadata": {
    "tags": []
   },
   "outputs": [
    {
     "name": "stdout",
     "output_type": "stream",
     "text": [
      "Objetos de Ciencia de Datos:\n",
      "1. pandas\n",
      "2. NumPy\n",
      "3. SciPy\n",
      "4. Matplotlib\n",
      "5. Seaborn\n",
      "6. Plotly\n",
      "7. scikit-learn\n",
      "8. TensorFlow\n",
      "9. Keras\n",
      "10. OpenCV\n",
      "11. SQL\n",
      "12. NoSQL\n",
      "13. Jupyter Notebook\n",
      "14. R Studio\n",
      "15. GitHub\n",
      "16. Tableau\n"
     ]
    }
   ],
   "source": [
    "# Objetos de Ciencia de Datos\n",
    "\n",
    "objetos = [\n",
    "    \"pandas\",\n",
    "    \"NumPy\",\n",
    "    \"SciPy\",\n",
    "    \"Matplotlib\",\n",
    "    \"Seaborn\",\n",
    "    \"Plotly\",\n",
    "    \"scikit-learn\",\n",
    "    \"TensorFlow\",\n",
    "    \"Keras\",\n",
    "    \"OpenCV\",\n",
    "    \"SQL\",\n",
    "    \"NoSQL\",\n",
    "    \"Jupyter Notebook\",\n",
    "    \"R Studio\",\n",
    "    \"GitHub\",\n",
    "    \"Tableau\"\n",
    "]\n",
    "\n",
    "print(\"Objetos de Ciencia de Datos:\")\n",
    "for i, objeto in enumerate(objetos, 1):\n",
    "    print(f\"{i}. {objeto}\")"
   ]
  },
  {
   "cell_type": "markdown",
   "metadata": {},
   "source": [
    "#### Autor: Jaysson Leon"
   ]
  },
  {
   "cell_type": "code",
   "execution_count": null,
   "metadata": {},
   "outputs": [],
   "source": []
  }
 ],
 "metadata": {
  "kernelspec": {
   "display_name": "Python",
   "language": "python",
   "name": "conda-env-python-py"
  },
  "language_info": {
   "codemirror_mode": {
    "name": "ipython",
    "version": 3
   },
   "file_extension": ".py",
   "mimetype": "text/x-python",
   "name": "python",
   "nbconvert_exporter": "python",
   "pygments_lexer": "ipython3",
   "version": "3.7.12"
  }
 },
 "nbformat": 4,
 "nbformat_minor": 4
}
